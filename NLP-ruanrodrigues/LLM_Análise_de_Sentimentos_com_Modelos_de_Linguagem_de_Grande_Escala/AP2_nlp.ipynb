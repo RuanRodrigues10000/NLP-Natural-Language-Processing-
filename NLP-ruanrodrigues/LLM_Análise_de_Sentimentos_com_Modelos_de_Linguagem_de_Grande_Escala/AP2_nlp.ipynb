{
  "nbformat": 4,
  "nbformat_minor": 0,
  "metadata": {
    "colab": {
      "provenance": [],
      "gpuType": "T4"
    },
    "kernelspec": {
      "name": "python3",
      "display_name": "Python 3"
    },
    "language_info": {
      "name": "python"
    },
    "accelerator": "GPU"
  },
  "cells": [
    {
      "cell_type": "markdown",
      "source": [
        "##AV2 NLP"
      ],
      "metadata": {
        "id": "zjySggrND3w8"
      }
    },
    {
      "cell_type": "markdown",
      "source": [
        "Explicação do Código\n",
        "\n",
        "-Importações: As bibliotecas necessárias são importadas, incluindo torch, pandas, transformers, e sklearn.\n",
        "\n",
        "-Carregar Dataset: O arquivo CSV com os dados é lido e uma amostra de 20% é criada.\n",
        "\n",
        "-Classe TweetDataset: Define um dataset personalizado para lidar com a tokenização e preparação dos dados.\n",
        "\n",
        "-O método __getitem__ utiliza a função encode_plus do tokenizer para converter textos em IDs de entrada e máscaras de atenção.\n",
        "\n",
        "-Carregar Tokenizer e Modelo: O tokenizer e o modelo BERT pré-treinados são carregados. O parâmetro hidden_dropout_prob é ajustado para aumentar a regularização.\n",
        "\n",
        "-Dividir Dataset: Os dados são divididos em conjuntos de treinamento e teste, utilizando uma divisão de 80/20.\n",
        "\n",
        "-Criar Dataloaders: Os datasets de treinamento e teste são convertidos em DataLoader, facilitando o carregamento em lotes durante o treinamento."
      ],
      "metadata": {
        "id": "-p0CqlpoD3Sh"
      }
    },
    {
      "cell_type": "code",
      "execution_count": 2,
      "metadata": {
        "colab": {
          "base_uri": "https://localhost:8080/"
        },
        "id": "tSpv--9bfdGz",
        "outputId": "d655be8d-856a-44a2-9baf-394627588ccb"
      },
      "outputs": [
        {
          "output_type": "stream",
          "name": "stderr",
          "text": [
            "/usr/local/lib/python3.10/dist-packages/transformers/tokenization_utils_base.py:1601: FutureWarning: `clean_up_tokenization_spaces` was not set. It will be set to `True` by default. This behavior will be depracted in transformers v4.45, and will be then set to `False` by default. For more details check this issue: https://github.com/huggingface/transformers/issues/31884\n",
            "  warnings.warn(\n",
            "Some weights of BertForSequenceClassification were not initialized from the model checkpoint at neuralmind/bert-base-portuguese-cased and are newly initialized: ['classifier.bias', 'classifier.weight']\n",
            "You should probably TRAIN this model on a down-stream task to be able to use it for predictions and inference.\n"
          ]
        }
      ],
      "source": [
        "import torch\n",
        "import pandas as pd\n",
        "from transformers import BertTokenizer, BertForSequenceClassification, pipeline\n",
        "from torch.utils.data import DataLoader, Dataset\n",
        "from sklearn.model_selection import train_test_split\n",
        "\n",
        "# Ler o arquivo CSV\n",
        "df = pd.read_csv('/content/twitter-sentiment-pt-BR-md-2-l.csv')\n",
        "\n",
        "# Reduzir o dataset para 20% dos dados\n",
        "df = df.sample(frac=0.2, random_state=42).reset_index(drop=True)\n",
        "\n",
        "# Preparar dataset\n",
        "class TweetDataset(Dataset):\n",
        "    def __init__(self, texts, labels, tokenizer, max_len):\n",
        "        self.texts = texts\n",
        "        self.labels = labels\n",
        "        self.tokenizer = tokenizer\n",
        "        self.max_len = max_len\n",
        "\n",
        "    def __len__(self):\n",
        "        return len(self.texts)\n",
        "\n",
        "    def __getitem__(self, index):\n",
        "        text = self.texts[index]\n",
        "        label = self.labels[index]\n",
        "        encoding = self.tokenizer.encode_plus(\n",
        "            text,\n",
        "            add_special_tokens=True,\n",
        "            max_length=self.max_len,\n",
        "            return_token_type_ids=False,\n",
        "            padding='max_length',\n",
        "            truncation=True,\n",
        "            return_attention_mask=True,\n",
        "            return_tensors='pt',\n",
        "        )\n",
        "        return {\n",
        "            'input_ids': encoding['input_ids'].flatten(),\n",
        "            'attention_mask': encoding['attention_mask'].flatten(),\n",
        "            'labels': torch.tensor(label, dtype=torch.long)\n",
        "        }\n",
        "\n",
        "# Carregar tokenizer e modelo\n",
        "tokenizer = BertTokenizer.from_pretrained(\"neuralmind/bert-base-portuguese-cased\")\n",
        "model = BertForSequenceClassification.from_pretrained(\n",
        "    \"neuralmind/bert-base-portuguese-cased\",\n",
        "    num_labels=2,\n",
        "    hidden_dropout_prob=0.5  # Aumentar dropout para regularização\n",
        ")\n",
        "\n",
        "# Dividir o dataset\n",
        "train_texts, test_texts, train_labels, test_labels = train_test_split(\n",
        "    df['tweet_text'].values,\n",
        "    df['sentiment'].values,\n",
        "    test_size=0.2,\n",
        "    random_state=42\n",
        ")\n",
        "\n",
        "# Criar datasets e dataloaders\n",
        "train_dataset = TweetDataset(train_texts, train_labels, tokenizer, max_len=128)\n",
        "test_dataset = TweetDataset(test_texts, test_labels, tokenizer, max_len=128)\n",
        "\n",
        "train_loader = DataLoader(train_dataset, batch_size=16, shuffle=True)\n",
        "test_loader = DataLoader(test_dataset, batch_size=16, shuffle=False)\n"
      ]
    },
    {
      "cell_type": "markdown",
      "source": [
        "-Otimizador: O AdamW é utilizado com uma taxa de aprendizado de 1e-6 e regularização L2 (weight_decay=0.01).\n",
        "\n",
        "-Dispositivo: O modelo é movido para a GPU, se disponível, usando torch.device.\n",
        "\n",
        "-Parâmetros de Treinamento:\n",
        "\n",
        "EPOCHS: Total de épocas de treinamento.\n",
        "best_val_loss: Inicializa a melhor perda de validação.\n",
        "patience: Número de épocas sem melhoria antes do early stopping.\n",
        "Loop de Treinamento: Para cada época:\n",
        "\n",
        "O modelo é colocado em modo de treinamento (model.train()).\n",
        "A perda total da época é acumulada.\n",
        "\n",
        "Para cada batch do train_loader, os gradientes são zerados, e os IDs de entrada, máscaras de atenção e rótulos são movidos para o dispositivo.\n",
        "\n",
        "O modelo calcula a perda, realiza a retropropagação (loss.backward()) e atualiza os parâmetros (optimizer.step()).\n",
        "A perda total da época é impressa.\n",
        "\n",
        "-Validação: O modelo é avaliado após cada época:\n",
        "\n",
        "É colocado em modo de avaliação (model.eval()).\n",
        "A perda de validação é calculada sem calcular gradientes (with torch.no_grad()).\n",
        "\n",
        "Early Stopping: Se a perda de validação melhorar, best_val_loss é atualizado e o contador de paciência é zerado. Caso contrário, o contador aumenta e, se atingir o limite de paciência, o treinamento é interrompido."
      ],
      "metadata": {
        "id": "p2N-wKYXETmU"
      }
    },
    {
      "cell_type": "code",
      "source": [
        "# Otimizador com redução da taxa de aprendizado e regularização L2\n",
        "optimizer = torch.optim.AdamW(model.parameters(), lr=1e-6, weight_decay=0.01)\n",
        "device = torch.device(\"cuda\" if torch.cuda.is_available() else \"cpu\")\n",
        "model = model.to(device)\n",
        "\n",
        "# Early Stopping com paciência de 2 épocas\n",
        "EPOCHS = 10\n",
        "best_val_loss = float('inf')\n",
        "patience = 2\n",
        "patience_counter = 0\n",
        "\n",
        "for epoch in range(EPOCHS):\n",
        "    model.train()\n",
        "    total_loss = 0\n",
        "\n",
        "    for batch in train_loader:\n",
        "        optimizer.zero_grad()\n",
        "\n",
        "        input_ids = batch['input_ids'].to(device)\n",
        "        attention_mask = batch['attention_mask'].to(device)\n",
        "        labels = batch['labels'].to(device)\n",
        "\n",
        "        outputs = model(input_ids=input_ids, attention_mask=attention_mask, labels=labels)\n",
        "        loss = outputs.loss\n",
        "        loss.backward()\n",
        "        optimizer.step()\n",
        "\n",
        "        total_loss += loss.item()\n",
        "\n",
        "    print(f\"Epoch {epoch + 1} finished with loss: {total_loss:.4f}\")\n",
        "\n",
        "    # Avaliar no conjunto de validação/teste a cada época\n",
        "    model.eval()\n",
        "    val_loss = 0\n",
        "    with torch.no_grad():\n",
        "        for batch in test_loader:\n",
        "            input_ids = batch['input_ids'].to(device)\n",
        "            attention_mask = batch['attention_mask'].to(device)\n",
        "            labels = batch['labels'].to(device)\n",
        "\n",
        "            outputs = model(input_ids=input_ids, attention_mask=attention_mask, labels=labels)\n",
        "            val_loss += outputs.loss.item()\n",
        "\n",
        "    print(f\"Validation Loss: {val_loss:.4f}\")\n",
        "\n",
        "    # Early Stopping\n",
        "    if val_loss < best_val_loss:\n",
        "        best_val_loss = val_loss\n",
        "        patience_counter = 0\n",
        "    else:\n",
        "        patience_counter += 1\n",
        "        if patience_counter >= patience:\n",
        "            print(\"Early stopping\")\n",
        "            break\n"
      ],
      "metadata": {
        "colab": {
          "base_uri": "https://localhost:8080/"
        },
        "id": "hsYegs4ufsDc",
        "outputId": "bb37ea4b-9b97-413c-b6de-52cd7b141225"
      },
      "execution_count": 3,
      "outputs": [
        {
          "output_type": "stream",
          "name": "stdout",
          "text": [
            "Epoch 1 finished with loss: 142.5197\n",
            "Validation Loss: 34.8021\n",
            "Epoch 2 finished with loss: 139.7764\n",
            "Validation Loss: 34.4559\n",
            "Epoch 3 finished with loss: 139.2780\n",
            "Validation Loss: 34.1515\n",
            "Epoch 4 finished with loss: 137.8849\n",
            "Validation Loss: 33.7748\n",
            "Epoch 5 finished with loss: 137.1891\n",
            "Validation Loss: 33.3952\n",
            "Epoch 6 finished with loss: 135.2793\n",
            "Validation Loss: 32.9394\n",
            "Epoch 7 finished with loss: 133.6771\n",
            "Validation Loss: 32.2935\n",
            "Epoch 8 finished with loss: 131.0360\n",
            "Validation Loss: 31.6873\n",
            "Epoch 9 finished with loss: 126.4592\n",
            "Validation Loss: 30.4139\n",
            "Epoch 10 finished with loss: 118.7683\n",
            "Validation Loss: 28.1960\n"
          ]
        }
      ]
    },
    {
      "cell_type": "markdown",
      "source": [
        "Pipeline de Inferência:\n",
        "\n",
        "O pipeline de sentiment-analysis é criado com o modelo e tokenizer previamente definidos. O parâmetro device é ajustado para usar a GPU se disponível (device=0), caso contrário, usa a CPU (device=-1).\n",
        "\n",
        "Inferência:\n",
        "\n",
        "Os textos do conjunto de teste são convertidos em uma lista (test_texts.tolist()).\n",
        "A inferência é realizada chamando o classifier, que retorna as previsões.\n",
        "Processamento das Previsões:\n",
        "\n",
        "As previsões retornadas contêm rótulos como 'LABEL_0' ou 'LABEL_1'. A lista predicted_labels é criada convertendo esses rótulos em 0 e 1, respectivamente."
      ],
      "metadata": {
        "id": "kZcdXM4yEjqb"
      }
    },
    {
      "cell_type": "code",
      "source": [
        "# Inferência com pipeline\n",
        "classifier = pipeline(\"sentiment-analysis\", model=model, tokenizer=tokenizer, device=0 if torch.cuda.is_available() else -1)\n",
        "\n",
        "# Fazer inferência no conjunto de teste\n",
        "test_texts_list = test_texts.tolist()\n",
        "predictions = classifier(test_texts_list)\n",
        "predicted_labels = [0 if pred['label'] == 'LABEL_0' else 1 for pred in predictions]\n"
      ],
      "metadata": {
        "id": "uGvfMnMwfs6j"
      },
      "execution_count": 4,
      "outputs": []
    },
    {
      "cell_type": "markdown",
      "source": [
        "Importação de Métricas: As funções necessárias para calcular as métricas de desempenho e plotar a matriz de confusão são importadas.\n",
        "\n",
        "Cálculo de Métricas:\n",
        "\n",
        "accuracy_score: Calcula a acurácia do modelo.\n",
        "precision_recall_fscore_support: Calcula precisão, recall e F1-Score. O parâmetro average='macro' é usado para calcular a média desses valores considerando cada classe igualmente.\n",
        "Impressão das Métricas: As métricas calculadas são impressas no console.\n",
        "\n",
        "Relatório de Classificação: Um relatório detalhado de classificação é gerado usando classification_report, que inclui precisão, recall e F1 para cada classe.\n",
        "\n",
        "Matriz de Confusão:\n",
        "\n",
        "A matriz de confusão é calculada usando confusion_matrix.\n",
        "A matriz é plotada usando seaborn para uma visualização mais clara, com anotações sobre o número de previsões em cada célula."
      ],
      "metadata": {
        "id": "gqJnwA9JEtC5"
      }
    },
    {
      "cell_type": "code",
      "source": [
        "from sklearn.metrics import accuracy_score, precision_recall_fscore_support, classification_report, confusion_matrix\n",
        "import seaborn as sns\n",
        "import matplotlib.pyplot as plt\n",
        "\n",
        "# Calcular métricas de acurácia, precisão, recall e F1\n",
        "accuracy = accuracy_score(test_labels, predicted_labels)\n",
        "precision, recall, f1, _ = precision_recall_fscore_support(test_labels, predicted_labels, average='macro')\n",
        "\n",
        "print(f\"Acurácia: {accuracy:.4f}\")\n",
        "print(f\"Precisão: {precision:.4f}\")\n",
        "print(f\"Recall: {recall:.4f}\")\n",
        "print(f\"F1-Score: {f1:.4f}\")\n",
        "\n",
        "# Relatório de classificação\n",
        "print(\"\\nClassification Report:\")\n",
        "print(classification_report(test_labels, predicted_labels, target_names=['Negative', 'Positive']))\n",
        "\n",
        "# Matriz de confusão\n",
        "conf_matrix = confusion_matrix(test_labels, predicted_labels)\n",
        "\n",
        "# Plotar a matriz de confusão\n",
        "plt.figure(figsize=(8, 6))\n",
        "sns.heatmap(conf_matrix, annot=True, fmt='d', cmap='Blues', xticklabels=['Negative', 'Positive'], yticklabels=['Negative', 'Positive'])\n",
        "plt.xlabel('Predicted Labels')\n",
        "plt.ylabel('True Labels')\n",
        "plt.title('Confusion Matrix')\n",
        "plt.show()\n"
      ],
      "metadata": {
        "colab": {
          "base_uri": "https://localhost:8080/",
          "height": 824
        },
        "id": "gzqnKMxqhT8z",
        "outputId": "238fdfe5-1c79-4e40-b69a-4a75e780c7a3"
      },
      "execution_count": 5,
      "outputs": [
        {
          "output_type": "stream",
          "name": "stdout",
          "text": [
            "Acurácia: 0.7550\n",
            "Precisão: 0.7966\n",
            "Recall: 0.7555\n",
            "F1-Score: 0.7463\n",
            "\n",
            "Classification Report:\n",
            "              precision    recall  f1-score   support\n",
            "\n",
            "    Negative       0.91      0.57      0.70       401\n",
            "    Positive       0.68      0.94      0.79       399\n",
            "\n",
            "    accuracy                           0.76       800\n",
            "   macro avg       0.80      0.76      0.75       800\n",
            "weighted avg       0.80      0.76      0.75       800\n",
            "\n"
          ]
        },
        {
          "output_type": "display_data",
          "data": {
            "text/plain": [
              "<Figure size 800x600 with 2 Axes>"
            ],
            "image/png": "[encoded data removed]"
          },
          "metadata": {}
        }
      ]
    }
  ]
}